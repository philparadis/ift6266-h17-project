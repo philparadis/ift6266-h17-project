{
 "cells": [
  {
   "cell_type": "code",
   "execution_count": 68,
   "metadata": {
    "collapsed": false,
    "deletable": true,
    "editable": true
   },
   "outputs": [],
   "source": [
    "#!/usr/bin/env python2\n",
    "# -*- coding: utf-8 -*-\n",
    "\"\"\"\n",
    "Created on Wed Mar 15 14:54:01 2017\n",
    "\n",
    "@author: paradiph\n",
    "\"\"\"\n",
    "\n",
    "import os, sys\n",
    "import glob\n",
    "import cPickle as pkl\n",
    "import numpy as np\n",
    "import PIL.Image as Image\n",
    "#from skimage.transform import resize\n",
    "\n",
    "from keras.models import Sequential\n",
    "from keras.models import load_model\n",
    "from keras.layers import Dense, Activation, Dropout\n",
    "from keras import optimizers\n",
    "from keras import losses\n",
    "\n",
    "#%%"
   ]
  },
  {
   "cell_type": "code",
   "execution_count": null,
   "metadata": {
    "collapsed": true,
    "deletable": true,
    "editable": true
   },
   "outputs": [],
   "source": [
    "# Assume this script is being run from the root directory of the git repo\n",
    "\n",
    "#######################################\n",
    "# Dataset\n",
    "#######################################\n",
    "# The data is already split into training and validation datasets\n",
    "# The training dataset has:\n",
    "# - 82782 items\n",
    "# - 984 MB of data\n",
    "# The validation dataset has:\n",
    "# - 40504 items\n",
    "# - 481 MB of data\n",
    "#\n",
    "# There is also a pickled dictionary that maps image filenames (minutes the\n",
    "# .jpg extension) to a list of 5 strings (the 5 human-generated captions).\n",
    "# This dictionary is an OrderedDict with 123286 entries.\n",
    "\n",
    "input_dim = 64*64*3 - 32*32*3\n",
    "output_dim = 32*32*3\n",
    "batch_size = 128\n",
    "num_epochs = 15\n",
    "\n",
    "#%% PATHS\n",
    "mscoco=\"datasets/mscoco_inpainting/inpainting/\"\n",
    "split=\"train2014\"\n",
    "caption_path=\"dict_key_imgID_value_caps_train_and_valid.pkl\"\n",
    "\n"
   ]
  },
  {
   "cell_type": "code",
   "execution_count": 76,
   "metadata": {
    "collapsed": false,
    "deletable": true,
    "editable": true
   },
   "outputs": [
    {
     "name": "stdout",
     "output_type": "stream",
     "text": [
      "('working dir', '/u/paradiph/ift6266-h17-project')\n"
     ]
    }
   ],
   "source": [
    "import os\n",
    "workingdir = os.path.join(os.getenv('HOME'), 'ift6266-h17-project')\n",
    "print(\"working dir\", workingdir)\n",
    "os.chdir(workingdir)"
   ]
  },
  {
   "cell_type": "code",
   "execution_count": 77,
   "metadata": {
    "collapsed": true
   },
   "outputs": [],
   "source": [
    "#some preprocessing\n",
    "def normalize_dataset(dataset):\n",
    "    dataset = dataset.astype('float32')\n",
    "    dataset /= 255\n",
    "    return dataset\n",
    "\n",
    "def denormalize_dataset(dataset):\n",
    "    dataset *= 255\n",
    "    dataset = dataset.astype('uint8')\n",
    "    return dataset"
   ]
  },
  {
   "cell_type": "code",
   "execution_count": 78,
   "metadata": {
    "collapsed": false,
    "deletable": true,
    "editable": true
   },
   "outputs": [
    {
     "name": "stdout",
     "output_type": "stream",
     "text": [
      "datasets/mscoco_inpainting/inpainting/train2014/*.jpg\n",
      "Finished loading full dataset...\n",
      "('X_train_inner shape   = ', (82611, 3072))\n",
      "('X_train_outer shape   = ', (82611, 9216))\n",
      "('X_train_caption shape = ', (82611,))\n",
      "First 3 rows and first 10 pixels of X_train_inner:\n",
      "[57 69 57 65 79 56 63 81 43 53]\n",
      "[197 202 195 167 164 147 104  87  57 102]\n",
      "[104 100  97  77  80  53 172 181 128 242]\n"
     ]
    }
   ],
   "source": [
    "#%% Load training images and captions\n",
    "data_path = os.path.join(mscoco, split)\n",
    "caption_path = os.path.join(mscoco, caption_path)\n",
    "with open(caption_path) as fd:\n",
    "    caption_dict = pkl.load(fd)\n",
    "\n",
    "# Get a list of all training images full filename paths\n",
    "print data_path + \"/*.jpg\"\n",
    "train_images_paths = glob.glob(data_path + \"/*.jpg\")\n",
    "#batch_imgs = imgs[batch_idx*batch_size:(batch_idx+1)*batch_size]\n",
    "\n",
    "#%% Create dataset containing the images pixel data\n",
    "\n",
    "X_train_outer = []\n",
    "X_train_inner = []\n",
    "X_train_caption = []\n",
    "\n",
    "def flatten_outer_frame(img_array, dim_outer=(64, 64), dim_inner=(32, 32)):\n",
    "    flat = np.copy(img_array)\n",
    "    flat = flat.flatten()\n",
    "    img_top = flat[0:64*16,:]\n",
    "    img_bottom = flat[64*48:64*64,:]\n",
    "    no_middle_cols = np.delete(img_array, range(16,48))\n",
    "    img_middle = no_middle_cols.flatten()[32*16:32*48]\n",
    "\n",
    "    final_img = np.concatenate((img_top, img_middle, img_bottom), axis=0)\n",
    "    print(\"outer_frame shape = \", np.shape(final_img))\n",
    "    return final_img\n",
    "    \n",
    "for i, img_path in enumerate(train_images_paths):\n",
    "    img = Image.open(img_path)\n",
    "    img_array = np.array(img)\n",
    "\n",
    "    # File names look like this: COCO_train2014_000000520978.jpg\n",
    "    cap_id = os.path.basename(img_path)[:-4]\n",
    "\n",
    "    ### Get input/target from the images\n",
    "    center = (int(np.floor(img_array.shape[0] / 2.)), int(np.floor(img_array.shape[1] / 2.)))\n",
    "    if len(img_array.shape) == 3:\n",
    "        X_outer = np.copy(img_array)\n",
    "        X_outer_mask = np.array(np.ones(np.shape(img_array)), dtype='bool')\n",
    "        X_outer_mask[center[0]-16:center[0]+16, center[1]-16:center[1]+16, :] = False\n",
    "        zipped = zip(X_outer, X_outer_mask)\n",
    "        X_outer = X_outer.flatten()\n",
    "        X_outer_mask = X_outer_mask.flatten()\n",
    "        X_outer = X_outer[X_outer_mask]\n",
    "        \n",
    "        X_inner = img_array[center[0]-16:center[0]+16, center[1] - 16:center[1]+16, :]\n",
    "        X_inner = X_inner.flatten()\n",
    "    else:\n",
    "        continue\n",
    "        #X_outer = np.copy(img_array)\n",
    "        #X_outer[center[0]-16:center[0]+16, center[1]-16:center[1]+16] = 0\n",
    "        #X_inner = img_array[center[0]-16:center[0]+16, center[1] - 16:center[1]+16]\n",
    "\n",
    "    \n",
    "    #Image.fromarray(img_array).show()\n",
    "    X_train_inner.append(X_inner)\n",
    "    X_train_outer.append(X_outer)\n",
    "    captions = np.array([cap_id] + caption_dict[cap_id])\n",
    "    X_train_caption.append(captions)\n",
    "\n",
    "X_train_inner = np.array(X_train_inner)\n",
    "X_train_outer = np.array(X_train_outer)\n",
    "X_train_caption = np.array(X_train_caption)\n",
    "\n",
    "print(\"Finished loading full dataset...\")\n",
    "print(\"X_train_inner shape   = \", np.shape(X_train_inner))\n",
    "print(\"X_train_outer shape   = \", np.shape(X_train_outer))\n",
    "print(\"X_train_caption shape = \", np.shape(X_train_caption))\n",
    "\n",
    "print(\"First 3 rows and first 10 pixels of X_train_inner:\")\n",
    "print(X_train_inner[0, range(10)])\n",
    "print(X_train_inner[1, range(10)])\n",
    "print(X_train_inner[2, range(10)])"
   ]
  },
  {
   "cell_type": "code",
   "execution_count": 79,
   "metadata": {
    "collapsed": false,
    "deletable": true,
    "editable": true
   },
   "outputs": [
    {
     "name": "stdout",
     "output_type": "stream",
     "text": [
      "('working dir', '/u/paradiph/ift6266-h17-project')\n"
     ]
    },
    {
     "data": {
      "text/plain": [
       "'/u/paradiph/ift6266-h17-project'"
      ]
     },
     "execution_count": 79,
     "metadata": {},
     "output_type": "execute_result"
    }
   ],
   "source": [
    "import os\n",
    "workingdir = os.path.join(os.getenv('HOME'), 'ift6266-h17-project')\n",
    "print(\"working dir\", workingdir)\n",
    "os.chdir(workingdir)\n",
    "os.getcwd()"
   ]
  },
  {
   "cell_type": "code",
   "execution_count": 80,
   "metadata": {
    "collapsed": false,
    "deletable": true,
    "editable": true
   },
   "outputs": [
    {
     "name": "stdout",
     "output_type": "stream",
     "text": [
      "Splitting dataset into training and testing sets with shuffling...\n",
      "('X_train.shape = ', (66088, 9216))\n",
      "('X_test.shape  = ', (16523, 9216))\n",
      "('Y_train.shape = ', (66088, 3072))\n",
      "('Y_test.shape  = ', (16523, 3072))\n"
     ]
    }
   ],
   "source": [
    "# split into input (X) and output (Y) variables\n",
    "from sklearn.cross_validation import train_test_split\n",
    "X_train, X_test, Y_train, Y_test = train_test_split(X_train_outer,\n",
    "                                                    X_train_inner,\n",
    "                                                    test_size=0.20,\n",
    "                                                    random_state=1)\n",
    "\n",
    "print(\"Splitting dataset into training and testing sets with shuffling...\")\n",
    "print(\"X_train.shape = \", X_train.shape)\n",
    "print(\"X_test.shape  = \", X_test.shape)\n",
    "print(\"Y_train.shape = \", Y_train.shape)\n",
    "print(\"Y_test.shape  = \", Y_test.shape)\n",
    "\n",
    "X_train = normalize_dataset(X_train)\n",
    "X_test = normalize_dataset(X_test)\n",
    "Y_train = normalize_dataset(Y_train)\n",
    "Y_test = normalize_dataset(Y_test)"
   ]
  },
  {
   "cell_type": "code",
   "execution_count": 81,
   "metadata": {
    "collapsed": false
   },
   "outputs": [
    {
     "name": "stdout",
     "output_type": "stream",
     "text": [
      "(66088, 3072)\n"
     ]
    },
    {
     "data": {
      "text/plain": [
       "array([ 0.48235294,  0.45882353,  0.46666667,  0.38039216,  0.37254903,\n",
       "        0.42352942,  0.41176471,  0.40784314,  0.47843137,  0.43137255,\n",
       "        0.43529412,  0.51764709,  0.3882353 ,  0.40000001,  0.47450981,\n",
       "        0.51372552,  0.52156866,  0.58039218,  0.53725493,  0.53725493,\n",
       "        0.57647061,  0.29803923,  0.28627452,  0.3137255 ,  0.40392157,\n",
       "        0.38431373,  0.40784314,  0.45490196,  0.41960785,  0.43921569,\n",
       "        0.33333334,  0.28235295,  0.30980393,  0.33333334,  0.28235295,\n",
       "        0.31764707,  0.38431373,  0.40392157,  0.5529412 ,  0.32941177,\n",
       "        0.34509805,  0.48235294,  0.35686275,  0.37254903,  0.47843137,\n",
       "        0.33725491,  0.33333334,  0.39607844,  0.33333334,  0.32549021], dtype=float32)"
      ]
     },
     "execution_count": 81,
     "metadata": {},
     "output_type": "execute_result"
    }
   ],
   "source": [
    "print(Y_train.shape)\n",
    "Y_train[0,1500:1550]"
   ]
  },
  {
   "cell_type": "code",
   "execution_count": 84,
   "metadata": {
    "collapsed": false,
    "deletable": true,
    "editable": true
   },
   "outputs": [
    {
     "name": "stdout",
     "output_type": "stream",
     "text": [
      "Creating MLP model...\n",
      "Model summary:\n",
      "_________________________________________________________________\n",
      "Layer (type)                 Output Shape              Param #   \n",
      "=================================================================\n",
      "dense_22 (Dense)             (None, 100)               921700    \n",
      "_________________________________________________________________\n",
      "activation_17 (Activation)   (None, 100)               0         \n",
      "_________________________________________________________________\n",
      "dense_23 (Dense)             (None, 500)               50500     \n",
      "_________________________________________________________________\n",
      "activation_18 (Activation)   (None, 500)               0         \n",
      "_________________________________________________________________\n",
      "dense_24 (Dense)             (None, 3072)              1539072   \n",
      "=================================================================\n",
      "Total params: 2,511,272.0\n",
      "Trainable params: 2,511,272.0\n",
      "Non-trainable params: 0.0\n",
      "_________________________________________________________________\n",
      "None\n",
      "Compiling model...\n",
      "Fitting model...\n",
      "Epoch 1/50\n",
      "3s - loss: 0.0636 - mean_squared_error: 0.0636\n",
      "Epoch 2/50\n",
      "3s - loss: 0.0426 - mean_squared_error: 0.0426\n",
      "Epoch 3/50\n",
      "3s - loss: 0.0403 - mean_squared_error: 0.0403\n",
      "Epoch 4/50\n",
      "3s - loss: 0.0390 - mean_squared_error: 0.0390\n",
      "Epoch 5/50\n",
      "3s - loss: 0.0381 - mean_squared_error: 0.0381\n",
      "Epoch 6/50\n",
      "3s - loss: 0.0375 - mean_squared_error: 0.0375\n",
      "Epoch 7/50\n",
      "3s - loss: 0.0370 - mean_squared_error: 0.0370\n",
      "Epoch 8/50\n",
      "3s - loss: 0.0367 - mean_squared_error: 0.0367\n",
      "Epoch 9/50\n",
      "3s - loss: 0.0364 - mean_squared_error: 0.0364\n",
      "Epoch 10/50\n",
      "3s - loss: 0.0361 - mean_squared_error: 0.0361\n",
      "Epoch 11/50\n",
      "3s - loss: 0.0359 - mean_squared_error: 0.0359\n",
      "Epoch 12/50\n",
      "3s - loss: 0.0357 - mean_squared_error: 0.0357\n",
      "Epoch 13/50\n",
      "3s - loss: 0.0356 - mean_squared_error: 0.0356\n",
      "Epoch 14/50\n",
      "3s - loss: 0.0354 - mean_squared_error: 0.0354\n",
      "Epoch 15/50\n",
      "3s - loss: 0.0353 - mean_squared_error: 0.0353\n",
      "Epoch 16/50\n",
      "3s - loss: 0.0352 - mean_squared_error: 0.0352\n",
      "Epoch 17/50\n",
      "3s - loss: 0.0351 - mean_squared_error: 0.0351\n",
      "Epoch 18/50\n",
      "3s - loss: 0.0350 - mean_squared_error: 0.0350\n",
      "Epoch 19/50\n",
      "3s - loss: 0.0349 - mean_squared_error: 0.0349\n",
      "Epoch 20/50\n",
      "3s - loss: 0.0348 - mean_squared_error: 0.0348\n",
      "Epoch 21/50\n",
      "3s - loss: 0.0347 - mean_squared_error: 0.0347\n",
      "Epoch 22/50\n",
      "3s - loss: 0.0346 - mean_squared_error: 0.0346\n",
      "Epoch 23/50\n",
      "3s - loss: 0.0346 - mean_squared_error: 0.0346\n",
      "Epoch 24/50\n",
      "3s - loss: 0.0345 - mean_squared_error: 0.0345\n",
      "Epoch 25/50\n",
      "3s - loss: 0.0344 - mean_squared_error: 0.0344\n",
      "Epoch 26/50\n",
      "3s - loss: 0.0344 - mean_squared_error: 0.0344\n",
      "Epoch 27/50\n",
      "3s - loss: 0.0343 - mean_squared_error: 0.0343\n",
      "Epoch 28/50\n",
      "3s - loss: 0.0342 - mean_squared_error: 0.0342\n",
      "Epoch 29/50\n",
      "3s - loss: 0.0342 - mean_squared_error: 0.0342\n",
      "Epoch 30/50\n",
      "3s - loss: 0.0341 - mean_squared_error: 0.0341\n",
      "Epoch 31/50\n",
      "3s - loss: 0.0340 - mean_squared_error: 0.0340\n",
      "Epoch 32/50\n",
      "3s - loss: 0.0340 - mean_squared_error: 0.0340\n",
      "Epoch 33/50\n",
      "3s - loss: 0.0339 - mean_squared_error: 0.0339\n",
      "Epoch 34/50\n",
      "3s - loss: 0.0339 - mean_squared_error: 0.0339\n",
      "Epoch 35/50\n",
      "3s - loss: 0.0338 - mean_squared_error: 0.0338\n",
      "Epoch 36/50\n",
      "3s - loss: 0.0338 - mean_squared_error: 0.0338\n",
      "Epoch 37/50\n",
      "3s - loss: 0.0337 - mean_squared_error: 0.0337\n",
      "Epoch 38/50\n",
      "3s - loss: 0.0337 - mean_squared_error: 0.0337\n",
      "Epoch 39/50\n",
      "3s - loss: 0.0337 - mean_squared_error: 0.0337\n",
      "Epoch 40/50\n",
      "3s - loss: 0.0336 - mean_squared_error: 0.0336\n",
      "Epoch 41/50\n",
      "3s - loss: 0.0336 - mean_squared_error: 0.0336\n",
      "Epoch 42/50\n",
      "3s - loss: 0.0335 - mean_squared_error: 0.0335\n",
      "Epoch 43/50\n",
      "3s - loss: 0.0335 - mean_squared_error: 0.0335\n",
      "Epoch 44/50\n",
      "3s - loss: 0.0334 - mean_squared_error: 0.0334\n",
      "Epoch 45/50\n",
      "3s - loss: 0.0334 - mean_squared_error: 0.0334\n",
      "Epoch 46/50\n",
      "3s - loss: 0.0334 - mean_squared_error: 0.0334\n",
      "Epoch 47/50\n",
      "3s - loss: 0.0333 - mean_squared_error: 0.0333\n",
      "Epoch 48/50\n",
      "3s - loss: 0.0333 - mean_squared_error: 0.0333\n",
      "Epoch 49/50\n",
      "3s - loss: 0.0333 - mean_squared_error: 0.0333\n",
      "Epoch 50/50\n",
      "3s - loss: 0.0332 - mean_squared_error: 0.0332\n",
      "64640/66088 [============================>.] - ETA: 0s\b\b\b\b\b\b\b\b\b\b\b\b\b\b\b\b\b\b\b\b\b\b\b\b\b\b\b\b\b\b\b\b\b\b\b\b\b\b\b\b\b\b\b\b\b\b\b\b\b\b\b\b\b\b\b\b\b\b\b\b\b\b\b\b\b\b\b\b\b\b\b\b\b\b\b\b\b\b\b\b\b\b\b\b\b\b\b\b\b\b\b\b\b\b\b\b\b\b\b\b\b\b\b\b\b\b\b\b\b\b\b\b\b\b\b\b\b\b\b\b\b\b\b\b\b\b\b\b\b\b\b\b\b\b\b\b\b\b\b\b\b\b\b\b\b\b\b\b\b\b\b\b\b\b\b\b\b\b\b\b\b\b\b\b\b\b\b\b\b\b\b\b\b\b\b\b\b\b\b\b\b\b\b\b\b\b\b\b\b\b\b\b\b\b\b\b\b\b\b\b\b\b\b\b\b\b\b\b\b\b\b\b\b\b\b\b\b\b\b\b\b\b\b\b\b\b\b\b\b\b\b\b\b\b\b\b\b\b\b\b\b\b\b\b\b\b\b\b\b\b\b\b\b\b\b\b\b\b\b\b\b\b\b\b\b\b\b\b\b\b\b\b\b\b\b\b\b\b\b\b\b\b\b\b\b\b\b\b\b\b\b\b\b\b\b\b\b\b\b\b\b\b\b\b\b\b\b\b\b\b\b\b\b\b\b\b\b\b\b\b\b\b\b\b\b\b\b\b\b\b\b\b\b\b\b\b\b\b\b\b\b\b\b\b\b\b\b\b\b\b\b\b\b\b\b\b\b\b\b\b\b\b\b\b\b\b\b\b\b\b\b\b\b\b\b\b\b\b\b\b\b\b\b\b\b\b\b\b\b\b\b\b\b\b\b\b\b\b\b\b\b\b\b\b\b\b\b\b\b\b\b\b\b\b\b\b\b\b\b\b\b\b\b\b\b\b\b\b\b\b\b\b\b\b\b\b\b\b\b\b\b\b\b\b\b\b\b\b\b\b\b\b\b\b\b\b\b\b\b\b\b\b\b\b\b\b\b\b\b\b\b\b\b\b\b\b\b\b\b\b\b\b\b\b\b\b\b\b\b\b\b\b\b\b\b\b\b\b\b\b\b\b\b\b\b\b\b\b\b\b\b\b\b\b\b\b\b\b\b\b\b\b\b\b\b\b\b\b\b\b\b\b\b\b\b\b\b\b\b\b\b\b\b\b\b\b\b\b\b\b\b\b\b\b\b\b\b\b\b\b\b\b\b\b\b\b\b\b\b\b\b\b\b\b\b\b\b\b\b\b\b\b\b\b\b\b\b\b\b\b\b\b\b\b\b\b\b\b\b\b\b\b\b\b\b\b\b\b\b\b\b\b\b\b\b\b\b\b\b\b\b\b\b\b\b\b\b\b\b\b\b\b\b\b\b\b\b\b\b\b\b\b\b\b\b\b\b\b\b\b\b\b\b\b\b\b\b\b\b\b\b\b\b\b\b\b\b\b\b\b\b\b\b\b\b\b\b\b\b\b\b\b\b\b\b\b\b\b\b\b\b\b\b\b\b\b\b\b\b\b\b\b\b\b\b\b\b\b\b\b\b\b\b\b\b\b\b\b\b\b\b\b\b\b\b\b\b\b\b\b\b\b\b\b\b\b\b\b\b\b\b\b\b\b\b\b\b\b\b\b\b\b\b\b\b\b\b\b\b\b\b\b\b\b\b\b\b\b\b\b\b\b\b\b\b\b\b\b\b\b\b\b\b\b\b\b\b\b\b\b\b\b\b\b\b\b\b\b\b\b\b\b\b\b\b\b\b\b\b\b\b\b\b\b\b\b\b\b\b\b\b\b\b\b\b\b\b\b\b\b\b\b\b\b\b\b\b\b\b\b\b\b\b\b\b\b\b\b\b\b\b\b\b\b\b\b\b\b\b\b\b\b\b\b\b\b\b\b\b\b\b\b\b\b\b\b\b\b\b\b\b\b\b\b\b\b\b\b\b\b\b\b\b\b\b\b\b\b\b\b\b\b\b\b\b\b\b\b\b\b\b\b\b\b\b\b\b\b\b\b\b\b\b\b\b\b\b\b\b\b\b\b\b\b\b\b\b\b\b\b\b\b\b\b\b\b\b\b\b\b\b\b\b\b\b\b\b\b\b\b\b\b\b\b\b\b\b\b\b\b\b\b\b\b\b\b\b\b\b\b\b\b\b\b\b\b\b\b\b\b\b\b\b\b\b\b\b\b\b\b\b\b\b\b\b\b\b\b\b\b\b\b\b\b\b\b\b\b\b\b\b\b\b\b\b\b\b\b\b\b\b\b\b\b\b\b\b\b\b\b\b\b\b\b\b\b\b\b\b\b\b\b\b\b\b\b\b\b\b\b\b\b\b\b\b\b\b\b\b\b\b\b\b\b\b\b\b\b\b\b\b\b\b\b\b\b\b\b\b\b\b\b\b\b\b\b\b\b\b\b\b\b\b\b\b\b\b\b\b\b\b\b\b\b\b\b\b\b\b\b\b\b\b\b\b\b\b\b\b\b\b\b\b\b\b\b\b\b\b\b\b\b\b\b\b\b\b\b\b\b\b\b\b\b\b\b\b\b\b\b\b\b\b\b\b\b\b\b\b\b\b\b\b\b\b\b\b\b\b\b\b\b\b\b\b\b\b\b\b\b\b\b\b\b\b\b\b\b\b\b\b\b\b\b\b\b\b\b\b\b\b\b\b\b\b\b\b\b\b\b\b\b\b\b\b\b\b\b\b\b\b\b\b\b\b\b\b\b\b\b\b\b\b\b\b\b\b\b\b\b\b\b\b\b\b\b\b\b\b\b\b\b\b\b\b\b\b\b\b\b\b\b\b\b\b\b\b\b\b\b\b\b\b\b\b\b\b\b\b\b\b\b\b\b\b\b\b\b\b\b\b\b\b\b\b\b\b\b\b\b\b\b\b\b\b\b\b\b\b\b\b\b\b\b\b\b\b\b\b\b\b\b\b\b\b\b\b\b\b\b\b\b\b\b\b\b\b\b\b\b\b\b\b\b\b\b\b\b\b\b\b\b\b\b\b\b\b\b\b\b\b\b\b\b\b\b\b\b\b\b\b\b\b\b\b\b\b\b\b\b\b\b\b\b\b\b\b\b\b\b\b\b\b\b\b\b\b\b\b\b\b\b\b\b\b\b\b\b\b\b\b\b\b\b\b\b\b\b\b\b\b\b\b\b\b\b\b\b\b\b\b\b\b\b\b\b\b\b\b\b\b\b\b\b\b\b\b\b\b\b\b\b\b\b\b\b\b\b\b\b\b\b\b\b\b\b\b\b\b\b\b\b\b\b\b\b\b\b\b\b\b\b\b\b\b\b\b\b\b\b\b\b\b\b\b\b\b\b\b\b\b\b\b\b\b\b\b\b\b\b\b\b\b\b\b\b\b\b\b\b\b\b\b\b\b\b\b\b\b\b\b\b\b\b\b\b\b\b\b\b\b\b\b\b\b\b\b\b\b\b\b\b\b\b\b\b\b\b\b\b\b\b\b\b\b\b\b\b\b\b\b\b\b\b\b\b\b\b\b\b\b\b\b\b\b\b\b\b\b\b\b\b\b\b\b\b\b\b\b\b\b\b\b\b\b\b\b\b\b\b\b\b\b\b\b\b\b\b\b\b\b\b\b\b\b\b\b\b\b\b\b\b\b\b\b\b\b\b\b\b\b\b\b\b\b\b\b\b\b\b\b\b\b\b\b\b\b\b\b\b\b\b\b\b\b\b\b\b\b\b\b\b\b\b\b\b\b\b\b\b\b\b\b\b\b\b\b\b\b\b\b\b\b\b\b\b\b\b\b\b\b\b\b\b\b\b\b\b\b\b\b\b\b\b\b\b\b\b\b\b\b\b\b\b\b\b\b\b\b\b\b\b\b\b\b\b\b\b\b\b\b\b\b\b\b\b\b\b\b\b\b\b\b\b\b\b\b\b\b\b\b\b\b\b\b\b\b\b\b\b\b\b\b\b\b\b\b\b\b\b\b\b\b\b\b\b\b\b\b\b\b\b\b\b\b\b\b\b\b\b\b\b\b\b\b\b\b\b\b\b\b\b\b\b\b\b\b\b\b\b\b\b\b\b\b\b\b\b\b\b\b\b\b\b\b\b\b\b\b\b\b\b\b\b\b\b\b\b\b\b\b\b\b\b\b\b\b\b\b\b\b\b\b\b\b\b\b\b\b\b\b\b\b\b\b\b\b\b\b\b\b\b\b\b\b\b\b\b\b\b\b\b\b\b\b\b\b\b\b\b\b\b\b\b\b\b\b\b\b\b\b\b\b\b\b\b\b\b\b\b\b\b\b\b\b\b\b\b\b\b\b\b\b\b\b\b\b\b\b\b\b\b\b\b\b\b\b\b\b\b\b\b\b\b\b\b\b\b\b\b\b\b\b\b\b\b\b\b\b\b\b\b\b\b\b\b\b\b\b\b\b\b\b\b\b\b\b\b\b\b\b\b\b\b\b\b\b\b\b\b\b\b\b\b\b\b\b\b\b\b\b\b\b\b\b\b\b\b\b\b\b\b\b\b\b\b\b\b\b\b\b\b\b\b\b\b\b\b\b\b\b\b\b\b\b\b\b\b\b\b\b\b\b\b\b\b\b\b\b\b\b\b\b\b\b\b\b\b\b\b\b\b\b\b\b\b\b\b\b\b\b\b\b\b\b\b\b\b\b\b\b\b\b\b\b\b\b\b\b\b\b\b\b\b\b\b\b\b\b\b\b\b\b\b\b\b\b\b\b\b\b\b\b\b\b\b\b\b\b\b\b\b\b\b\b\b\b\b\b\b\b\b\b\b\b\b\b\b\b\bTraining score mean_squared_error: 3.31%\n",
      "16384/16523 [============================>.] - ETA: 0s\b\b\b\b\b\b\b\b\b\b\b\b\b\b\b\b\b\b\b\b\b\b\b\b\b\b\b\b\b\b\b\b\b\b\b\b\b\b\b\b\b\b\b\b\b\b\b\b\b\b\b\b\b\b\b\b\b\b\b\b\b\b\b\b\b\b\b\b\b\b\b\b\b\b\b\b\b\b\b\b\b\b\b\b\b\b\b\b\b\b\b\b\b\b\b\b\b\b\b\b\b\b\b\b\b\b\b\b\b\b\b\b\b\b\b\b\b\b\b\b\b\b\b\b\b\b\b\b\b\b\b\b\b\b\b\b\b\b\b\b\b\b\b\b\b\b\b\b\b\b\b\b\b\b\b\b\b\b\b\b\b\b\b\b\b\b\b\b\b\b\b\b\b\b\b\b\b\b\b\b\b\b\b\b\b\b\b\b\b\b\b\b\b\b\b\b\b\b\b\b\b\b\b\b\b\b\b\b\b\b\b\b\b\b\b\b\b\b\b\b\b\b\b\b\b\b\b\b\b\b\b\b\b\b\b\b\b\b\b\b\b\b\b\b\b\b\b\b\b\b\b\b\b\b\b\b\b\b\b\b\b\b\b\b\b\b\b\b\b\b\b\b\b\b\b\b\b\b\b\b\b\b\b\b\b\b\b\b\b\b\b\b\b\b\b\b\b\b\b\b\b\b\b\b\b\b\b\b\b\b\b\b\b\b\b\b\b\b\b\b\b\b\b\b\b\b\b\b\b\b\b\b\b\b\b\b\b\b\b\b\b\b\b\b\b\b\b\b\b\b\b\b\b\b\b\b\b\b\b\b\b\b\b\b\b\b\b\b\b\b\b\b\b\b\b\b\b\b\b\b\b\b\b\b\b\b\b\b\b\b\b\b\b\b\b\b\b\b\b\b\b\b\b\b\b\b\b\b\b\b\b\b\b\b\b\b\b\b\b\b\b\b\b\b\b\b\b\b\b\b\b\bTesting score mean_squared_error: 3.51%\n",
      "Saving model as 'last_model.h5'\n"
     ]
    }
   ],
   "source": [
    "print(\"Creating MLP model...\")\n",
    "# Create model\n",
    "model = Sequential()\n",
    "model.add(Dense(units=100, input_shape=(input_dim, )))\n",
    "model.add(Activation('relu'))\n",
    "#model.add(Dropout(0.5))\n",
    "model.add(Dense(units=(500)))\n",
    "model.add(Activation('relu'))\n",
    "#model.add(Dropout(0.5))\n",
    "model.add(Dense(units=output_dim))\n",
    "#model.add(Activation('relu'))\n",
    "# Try using a sigmoid activation after\n",
    "\n",
    "# Print model summary\n",
    "print(\"Model summary:\")\n",
    "print(model.summary())\n",
    "\n",
    "print(\"Compiling model...\")\n",
    "# Compile model\n",
    "adam_optimizer = optimizers.Adam(lr=0.00005) # Default lr = 0.001\n",
    "model.compile(loss='mse', optimizer=adam_optimizer, metrics=['mse'])\n",
    "#model.compile(loss=losses.mean_absolute_error, optimizer='adam', metrics=['accuracy'])\n",
    "\n",
    "print(\"Fitting model...\")\n",
    "# Fit the model\n",
    "model.fit(X_train, Y_train, epochs=num_epochs, batch_size=batch_size, verbose=2)\n",
    "\n",
    "# evaluate the model\n",
    "scores = model.evaluate(X_train, Y_train, batch_size=batch_size)\n",
    "print(\"Training score %s: %.2f%%\" % (model.metrics_names[1], scores[1]*100))\n",
    "scores = model.evaluate(X_test, Y_test, batch_size=batch_size)\n",
    "print(\"Testing score %s: %.2f%%\" % (model.metrics_names[1], scores[1]*100))\n",
    "\n",
    "#%% Save model\n",
    "print(\"Saving model as 'last_model.h5'\")\n",
    "model.save('last_model.h5')"
   ]
  },
  {
   "cell_type": "code",
   "execution_count": 85,
   "metadata": {
    "collapsed": false,
    "deletable": true,
    "editable": true,
    "scrolled": true
   },
   "outputs": [
    {
     "name": "stdout",
     "output_type": "stream",
     "text": [
      "Loading model from disk 'last_model.h5'...\n"
     ]
    }
   ],
   "source": [
    "#%% Load model\n",
    "print(\"Loading model from disk 'last_model.h5'...\")\n",
    "model = load_model('last_model.h5')"
   ]
  },
  {
   "cell_type": "code",
   "execution_count": 86,
   "metadata": {
    "collapsed": false,
    "deletable": true,
    "editable": true
   },
   "outputs": [
    {
     "name": "stdout",
     "output_type": "stream",
     "text": [
      "64640/66088 [============================>.] - ETA: 0s\b\b\b\b\b\b\b\b\b\b\b\b\b\b\b\b\b\b\b\b\b\b\b\b\b\b\b\b\b\b\b\b\b\b\b\b\b\b\b\b\b\b\b\b\b\b\b\b\b\b\b\b\b\b\b\b\b\b\b\b\b\b\b\b\b\b\b\b\b\b\b\b\b\b\b\b\b\b\b\b\b\b\b\b\b\b\b\b\b\b\b\b\b\b\b\b\b\b\b\b\b\b\b\b\b\b\b\b\b\b\b\b\b\b\b\b\b\b\b\b\b\b\b\b\b\b\b\b\b\b\b\b\b\b\b\b\b\b\b\b\b\b\b\b\b\b\b\b\b\b\b\b\b\b\b\b\b\b\b\b\b\b\b\b\b\b\b\b\b\b\b\b\b\b\b\b\b\b\b\b\b\b\b\b\b\b\b\b\b\b\b\b\b\b\b\b\b\b\b\b\b\b\b\b\b\b\b\b\b\b\b\b\b\b\b\b\b\b\b\b\b\b\b\b\b\b\b\b\b\b\b\b\b\b\b\b\b\b\b\b\b\b\b\b\b\b\b\b\b\b\b\b\b\b\b\b\b\b\b\b\b\b\b\b\b\b\b\b\b\b\b\b\b\b\b\b\b\b\b\b\b\b\b\b\b\b\b\b\b\b\b\b\b\b\b\b\b\b\b\b\b\b\b\b\b\b\b\b\b\b\b\b\b\b\b\b\b\b\b\b\b\b\b\b\b\b\b\b\b\b\b\b\b\b\b\b\b\b\b\b\b\b\b\b\b\b\b\b\b\b\b\b\b\b\b\b\b\b\b\b\b\b\b\b\b\b\b\b\b\b\b\b\b\b\b\b\b\b\b\b\b\b\b\b\b\b\b\b\b\b\b\b\b\b\b\b\b\b\b\b\b\b\b\b\b\b\b\b\b\b\b\b\b\b\b\b\b\b\b\b\b\b\b\b\b\b\b\b\b\b\b\b\b\b\b\b\b\b\b\b\b\b\b\b\b\b\b\b\b\b\b\b\b\b\b\b\b\b\b\b\b\b\b\b\b\b\b\b\b\b\b\b\b\b\b\b\b\b\b\b\b\b\b\b\b\b\b\b\b\b\b\b\b\b\b\b\b\b\b\b\b\b\b\b\b\b\b\b\b\b\b\b\b\b\b\b\b\b\b\b\b\b\b\b\b\b\b\b\b\b\b\b\b\b\b\b\b\b\b\b\b\b\b\b\b\b\b\b\b\b\b\b\b\b\b\b\b\b\b\b\b\b\b\b\b\b\b\b\b\b\b\b\b\b\b\b\b\b\b\b\b\b\b\b\b\b\b\b\b\b\b\b\b\b\b\b\b\b\b\b\b\b\b\b\b\b\b\b\b\b\b\b\b\b\b\b\b\b\b\b\b\b\b\b\b\b\b\b\b\b\b\b\b\b\b\b\b\b\b\b\b\b\b\b\b\b\b\b\b\b\b\b\b\b\b\b\b\b\b\b\b\b\b\b\b\b\b\b\b\b\b\b\b\b\b\b\b\b\b\b\b\b\b\b\b\b\b\b\b\b\b\b\b\b\b\b\b\b\b\b\b\b\b\b\b\b\b\b\b\b\b\b\b\b\b\b\b\b\b\b\b\b\b\b\b\b\b\b\b\b\b\b\b\b\b\b\b\b\b\b\b\b\b\b\b\b\b\b\b\b\b\b\b\b\b\b\b\b\b\b\b\b\b\b\b\b\b\b\b\b\b\b\b\b\b\b\b\b\b\b\b\b\b\b\b\b\b\b\b\b\b\b\b\b\b\b\b\b\b\b\b\b\b\b\b\b\b\b\b\b\b\b\b\b\b\b\b\b\b\b\b\b\b\b\b\b\b\b\b\b\b\b\b\b\b\b\b\b\b\b\b\b\b\b\b\b\b\b\b\b\b\b\b\b\b\b\b\b\b\b\b\b\b\b\b\b\b\b\b\b\b\b\b\b\b\b\b\b\b\b\b\b\b\b\b\b\b\b\b\b\b\b\b\b\b\b\b\b\b\b\b\b\b\b\b\b\b\b\b\b\b\b\b\b\b\b\b\b\b\b\b\b\b\b\b\b\b\b\b\b\b\b\b\b\b\b\b\b\b\b\b\b\b\b\b\b\b\b\b\b\b\b\b\b\b\b\b\b\b\b\b\b\b\b\b\b\b\b\b\b\b\b\b\b\b\b\b\b\b\b\b\b\b\b\b\b\b\b\b\b\b\b\b\b\b\b\b\b\b\b\b\b\b\b\b\b\b\b\b\b\b\b\b\b\b\b\b\b\b\b\b\b\b\b\b\b\b\b\b\b\b\b\b\b\b\b\b\b\b\b\b\b\b\b\b\b\b\b\b\b\b\b\b\b\b\b\b\b\b\b\b\b\b\b\b\b\b\b\b\b\b\b\b\b\b\b\b\b\b\b\b\b\b\b\b\b\b\b\b\b\b\b\b\b\b\b\b\b\b\b\b\b\b\b\b\b\b\b\b\b\b\b\b\b\b\b\b\b\b\b\b\b\b\b\b\b\b\b\b\b\b\b\b\b\b\b\b\b\b\b\b\b\b\b\b\b\b\b\b\b\b\b\b\b\b\b\b\b\b\b\b\b\b\b\b\b\b\b\b\b\b\b\b\b\b\b\b\b\b\b\b\b\b\b\b\b\b\b\b\b\b\b\b\b\b\b\b\b\b\b\b\b\b\b\b\b\b\b\b\b\b\b\b\b\b\b\b\b\b\b\b\b\b\b\b\b\b\b\b\b\b\b\b\b\b\b\b\b\b\b\b\b\b\b\b\b\b\b\b\b\b\b\b\b\b\b\b\b\b\b\b\b\b\b\b\b\b\b\b\b\b\b\b\b\b\b\b\b\b\b\b\b\b\b\b\b\b\b\b\b\b\b\b\b\b\b\b\b\b\b\b\b\b\b\b\b\b\b\b\b\b\b\b\b\b\b\b\b\b\b\b\b\b\b\b\b\b\b\b\b\b\b\b\b\b\b\b\b\b\b\b\b\b\b\b\b\b\b\b\b\b\b\b\b\b\b\b\b\b\b\b\b\b\b\b\b\b\b\b\b\b\b\b\b\b\b\b\b\b\b\b\b\b\b\b\b\b\b\b\b\b\b\b\b\b\b\b\b\b\b\b\b\b\b\b\b\b\b\b\b\b\b\b\b\b\b\b\b\b\b\b\b\b\b\b\b\b\b\b\b\b\b\b\b\b\b\b\b\b\b\b\b\b\b\b\b\b\b\b\b\b\b\b\b\b\b\b\b\b\b\b\b\b\b\b\b\b\b\b\b\b\b\b\b\b\b\b\b\b\b\b\b\b\b\b\b\b\b\b\b\b\b\b\b\b\b\b\b\b\b\b\b\b\b\b\b\b\b\b\b\b\b\b\b\b\b\b\b\b\b\b\b\b\b\b\b\b\b\b\b\b\b\b\b\b\b\b\b\b\b\b\b\b\b\b\b\b\b\b\b\b\b\b\b\b\b\b\b\b\b\b\b\b\b\b\b\b\b\b\b\b\b\b\b\b\b\b\b\b\b\b\b\b\b\b\b\b\b\b\b\b\b\b\b\b\b\b\b\b\b\b\b\b\b\b\b\b\b\b\b\b\b\b\b\b\b\b\b\b\b\b\b\b\b\b\b\b\b\b\b\b\b\b\b\b\b\b\b\b\b\b\b\b\b\b\b\b\b\b\b\b\b\b\b\b\b\b\b\b\b\b\b\b\b\b\b\b\b\b\b\b\b\b\b\b\b\b\b\b\b\b\b\b\b\b\b\b\b\b\b\b\b\b\b\b\b\b\b\b\b\b\b\b\b\b\b\b\b\b\b\b\b\b\b\b\b\b\b\b\b\b\b\b\b\b\b\b\bTraining score mean_squared_error: 3.31%\n",
      "15104/16523 [==========================>...] - ETA: 0s\b\b\b\b\b\b\b\b\b\b\b\b\b\b\b\b\b\b\b\b\b\b\b\b\b\b\b\b\b\b\b\b\b\b\b\b\b\b\b\b\b\b\b\b\b\b\b\b\b\b\b\b\b\b\b\b\b\b\b\b\b\b\b\b\b\b\b\b\b\b\b\b\b\b\b\b\b\b\b\b\b\b\b\b\b\b\b\b\b\b\b\b\b\b\b\b\b\b\b\b\b\b\b\b\b\b\b\b\b\b\b\b\b\b\b\b\b\b\b\b\b\b\b\b\b\b\b\b\b\b\b\b\b\b\b\b\b\b\b\b\b\b\b\b\b\b\b\b\b\b\b\b\b\b\b\b\b\b\b\b\b\b\b\b\b\b\b\b\b\b\b\b\b\b\b\b\b\b\b\b\b\b\b\b\b\b\b\b\b\b\b\b\b\b\b\b\b\b\b\b\b\b\b\b\b\b\b\b\b\b\b\b\b\b\b\b\b\b\b\b\b\b\b\b\b\b\b\b\b\b\b\b\b\b\b\b\b\b\b\b\b\b\b\b\b\b\b\b\b\b\b\b\b\b\b\b\b\b\b\b\b\b\b\b\b\b\b\b\b\b\b\b\b\b\b\b\b\b\b\b\b\b\b\b\b\b\b\b\b\b\b\b\b\b\b\b\b\b\b\b\b\b\b\b\b\b\b\b\b\b\b\b\b\b\b\b\b\b\b\b\b\b\b\b\b\b\b\b\b\b\b\b\b\b\b\b\b\b\b\b\b\b\b\b\b\b\b\b\b\b\b\b\b\b\b\b\b\b\b\b\b\b\b\b\b\b\b\b\b\b\b\b\b\b\b\b\b\b\b\b\b\b\b\b\b\b\b\b\b\b\b\b\b\b\b\b\b\b\b\b\b\b\b\b\b\b\b\b\b\b\b\b\b\b\b\b\b\b\b\b\b\b\b\b\b\b\b\b\b\b\b\bTesting score mean_squared_error: 3.51%\n"
     ]
    }
   ],
   "source": [
    "# evaluate the model\n",
    "scores = model.evaluate(X_train, Y_train, batch_size=batch_size)\n",
    "print(\"Training score %s: %.2f%%\" % (model.metrics_names[1], scores[1]*100))\n",
    "scores = model.evaluate(X_test, Y_test, batch_size=batch_size)\n",
    "print(\"Testing score %s: %.2f%%\" % (model.metrics_names[1], scores[1]*100))\n"
   ]
  },
  {
   "cell_type": "code",
   "execution_count": 87,
   "metadata": {
    "collapsed": false
   },
   "outputs": [
    {
     "name": "stdout",
     "output_type": "stream",
     "text": [
      "(16523, 3072)\n",
      "(16523, 3072)\n"
     ]
    }
   ],
   "source": [
    "X_test_predict = model.predict(X_test, batch_size=batch_size)\n",
    "\n",
    "print(X_test_predict.shape)\n",
    "print(Y_test.shape)\n",
    "\n",
    "X_test_predict = denormalize_dataset(X_test_predict)\n",
    "Y_test = denormalize_dataset(Y_test)\n",
    "\n",
    "num_rows = X_test_predict.shape[0]\n",
    "X_test_predict = np.reshape(X_test_predict, (num_rows, 32, 32, 3))\n",
    "\n",
    "num_rows = Y_test.shape[0]\n",
    "Y_test = np.reshape(Y_test, (num_rows, 32, 32, 3))"
   ]
  },
  {
   "cell_type": "code",
   "execution_count": 62,
   "metadata": {
    "collapsed": false,
    "deletable": true,
    "editable": true
   },
   "outputs": [
    {
     "name": "stdout",
     "output_type": "stream",
     "text": [
      "[[[84 70 48]\n",
      "  [83 70 47]\n",
      "  [82 69 47]\n",
      "  ..., \n",
      "  [81 68 47]\n",
      "  [81 69 46]\n",
      "  [82 69 47]]\n",
      "\n",
      " [[81 68 46]\n",
      "  [81 68 45]\n",
      "  [81 67 45]\n",
      "  ..., \n",
      "  [80 67 45]\n",
      "  [80 67 45]\n",
      "  [81 67 45]]\n",
      "\n",
      " [[79 67 44]\n",
      "  [79 66 44]\n",
      "  [80 67 44]\n",
      "  ..., \n",
      "  [78 66 45]\n",
      "  [79 65 44]\n",
      "  [79 65 44]]\n",
      "\n",
      " ..., \n",
      " [[75 59 38]\n",
      "  [75 60 38]\n",
      "  [76 60 39]\n",
      "  ..., \n",
      "  [75 59 38]\n",
      "  [75 59 38]\n",
      "  [74 58 37]]\n",
      "\n",
      " [[77 60 39]\n",
      "  [77 60 39]\n",
      "  [77 60 40]\n",
      "  ..., \n",
      "  [75 59 39]\n",
      "  [76 59 38]\n",
      "  [75 59 38]]\n",
      "\n",
      " [[77 61 40]\n",
      "  [78 60 40]\n",
      "  [77 60 40]\n",
      "  ..., \n",
      "  [76 60 39]\n",
      "  [76 60 40]\n",
      "  [76 61 40]]]\n",
      "[[[ 93  98  92]\n",
      "  [147 149 144]\n",
      "  [176 177 171]\n",
      "  ..., \n",
      "  [110 101  96]\n",
      "  [166 156 154]\n",
      "  [176 166 164]]\n",
      "\n",
      " [[ 82  89  82]\n",
      "  [131 136 129]\n",
      "  [178 179 173]\n",
      "  ..., \n",
      "  [193 185 182]\n",
      "  [215 205 204]\n",
      "  [199 189 188]]\n",
      "\n",
      " [[115 125 116]\n",
      "  [135 143 132]\n",
      "  [168 171 162]\n",
      "  ..., \n",
      "  [225 216 217]\n",
      "  [230 220 221]\n",
      "  [193 183 184]]\n",
      "\n",
      " ..., \n",
      " [[ 75  79  64]\n",
      "  [ 55  59  44]\n",
      "  [ 49  53  38]\n",
      "  ..., \n",
      "  [127  94  89]\n",
      "  [126 108  98]\n",
      "  [ 76  77  61]]\n",
      "\n",
      " [[127 133 119]\n",
      "  [114 120 106]\n",
      "  [104 110  96]\n",
      "  ..., \n",
      "  [206 183 177]\n",
      "  [163 153 143]\n",
      "  [151 162 145]]\n",
      "\n",
      " [[156 164 151]\n",
      "  [158 166 151]\n",
      "  [161 169 154]\n",
      "  ..., \n",
      "  [223 204 197]\n",
      "  [154 150 138]\n",
      "  [168 183 164]]]\n"
     ]
    }
   ],
   "source": [
    "\n",
    "\n",
    "print(X_test_predict[0])\n",
    "print(Y_test[0])"
   ]
  },
  {
   "cell_type": "code",
   "execution_count": 88,
   "metadata": {
    "collapsed": false,
    "deletable": true,
    "editable": true
   },
   "outputs": [],
   "source": [
    "\n",
    "for row in range(10):\n",
    "    img = Image.fromarray(X_test_predict[row,:,:,:])\n",
    "    img.show()\n",
    "    img.save('X_test_predict_' + str(row) + '.jpg')\n",
    "\n",
    "    img = Image.fromarray(Y_test[row,:,:,:])\n",
    "    img.show()\n",
    "    img.save('Y_test_' + str(row) + '.jpg')\n"
   ]
  },
  {
   "cell_type": "code",
   "execution_count": null,
   "metadata": {
    "collapsed": true
   },
   "outputs": [],
   "source": []
  }
 ],
 "metadata": {
  "anaconda-cloud": {},
  "kernelspec": {
   "display_name": "Python [conda env:keras]",
   "language": "python",
   "name": "conda-env-keras-py"
  },
  "language_info": {
   "codemirror_mode": {
    "name": "ipython",
    "version": 2
   },
   "file_extension": ".py",
   "mimetype": "text/x-python",
   "name": "python",
   "nbconvert_exporter": "python",
   "pygments_lexer": "ipython2",
   "version": "2.7.13"
  }
 },
 "nbformat": 4,
 "nbformat_minor": 2
}
